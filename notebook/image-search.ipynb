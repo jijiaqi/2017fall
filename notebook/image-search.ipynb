{
 "cells": [
  {
   "cell_type": "markdown",
   "metadata": {},
   "source": [
    "# 实用python编程系列：互联网应用\n",
    "\n",
    "本节介绍如何利用python实现一个基于标签的图像搜索引擎\n",
    "\n",
    "* matplotlib查看特定图像\n",
    "* 写一个python类（class）实现图像搜索引擎涉及的关键方法（索引、查询）"
   ]
  },
  {
   "cell_type": "code",
   "execution_count": null,
   "metadata": {
    "collapsed": false
   },
   "outputs": [],
   "source": [
    "%pylab inline\n",
    "import matplotlib.image as mpimg\n",
    "import matplotlib.pyplot as plt\n",
    "import numpy as np\n",
    "import os"
   ]
  },
  {
   "cell_type": "markdown",
   "metadata": {},
   "source": [
    "给定图像id，返回它的图像文件路径"
   ]
  },
  {
   "cell_type": "code",
   "execution_count": null,
   "metadata": {
    "collapsed": false
   },
   "outputs": [],
   "source": [
    "def get_img_path(imageid):\n",
    "    img_path = os.path.join(os.environ['HOME'], 'VisualSearch', 'flickr10k', 'ImageData', imageid[-1], '%s.jpg' % imageid)\n",
    "    return img_path\n",
    "\n",
    "imset = '3949407308 4528159441'.split()\n",
    "for imageid in imset:\n",
    "    print imageid, get_img_path(imageid)"
   ]
  },
  {
   "cell_type": "markdown",
   "metadata": {},
   "source": [
    "用mpimg.imread方法从磁盘中读取图像，并用imshow方法显示。"
   ]
  },
  {
   "cell_type": "code",
   "execution_count": null,
   "metadata": {
    "collapsed": false
   },
   "outputs": [],
   "source": [
    "imageid = '4528159441'\n",
    "local_filename = get_img_path(imageid)\n",
    "img = mpimg.imread(local_filename)\n",
    "print img.shape\n",
    "fig, ax1 = plt.subplots(figsize=(4,4))\n",
    "imgplot = ax1.imshow(img)\n",
    "ax1.set_title(imageid)"
   ]
  },
  {
   "cell_type": "markdown",
   "metadata": {},
   "source": [
    "同时显示多张图像"
   ]
  },
  {
   "cell_type": "code",
   "execution_count": null,
   "metadata": {
    "collapsed": false
   },
   "outputs": [],
   "source": [
    "imset = '3949407308 4528159441 386023202 2220109467'.split()\n",
    "fig, axes = plt.subplots(nrows=2, ncols=2, figsize=(12,12))\n",
    "max_row, max_col = axes.shape\n",
    "print max_row, max_col\n",
    "\n",
    "for i in range(max_row):\n",
    "    for j in range(max_col):\n",
    "        ax = axes[i][j]\n",
    "        img_path = get_img_path(imset[i*max_col+j])\n",
    "        img = mpimg.imread(img_path)\n",
    "        ax.imshow(img)\n",
    "        ax.set_title(imset[i*max_col+j])\n",
    "        #plt.setp(ax.get_xticklabels(), visible=False)\n",
    "        #ax.xaxis.set_tick_params(size=0)\n",
    "        #plt.setp(ax.get_yticklabels(), visible=False)\n",
    "        #ax.yaxis.set_tick_params(size=0)\n",
    "fig.tight_layout()"
   ]
  },
  {
   "cell_type": "markdown",
   "metadata": {},
   "source": [
    "## 基于标签搜索图像\n",
    "\n",
    "给定一个查询标签（query tag），找到所有带有该标签的图像。\n",
    "一个简单的方案就是扫描标签文件的每一行，如果该行包含query tag，则记录该图像id。\n",
    "实现如下："
   ]
  },
  {
   "cell_type": "code",
   "execution_count": null,
   "metadata": {
    "collapsed": false
   },
   "outputs": [],
   "source": [
    "import time\n",
    "\n",
    "def search(query, tagfile):\n",
    "    s_time = time.time()\n",
    "    hitlist = []\n",
    "    for line in open(tagfile):\n",
    "        imageid, userid, tags = line.strip().split('\\t') # tab character as separator\n",
    "        tagset = set(tags.split())\n",
    "        if query in tagset:\n",
    "            hitlist.append(imageid)\n",
    "    timecost = time.time() - s_time\n",
    "    return {'content':hitlist, 'time':timecost}\n",
    "\n",
    "tagfile = '/Users/xirong/VisualSearch/flickr10k/TextData/id.userid.rawtags.txt'\n",
    "results = search('dog', tagfile)\n",
    "print '%d hits, %.4f seconds' % (len(results['content']), results['time'])"
   ]
  },
  {
   "cell_type": "markdown",
   "metadata": {},
   "source": [
    "显示前4张图像"
   ]
  },
  {
   "cell_type": "code",
   "execution_count": null,
   "metadata": {
    "collapsed": false
   },
   "outputs": [],
   "source": [
    "imset = results['content'][:4]\n",
    "fig, axes = plt.subplots(nrows=2, ncols=2, figsize=(8,8))\n",
    "max_row, max_col = axes.shape\n",
    "print max_row, max_col\n",
    "\n",
    "for i in range(max_row):\n",
    "    for j in range(max_col):\n",
    "        ax = axes[i][j]\n",
    "        img_path = get_img_path(imset[i*max_col+j])\n",
    "        img = mpimg.imread(img_path)\n",
    "        ax.imshow(img)\n",
    "        ax.set_title(imset[i*max_col+j])\n",
    "        #plt.setp(ax.get_xticklabels(), visible=False)\n",
    "        #ax.xaxis.set_tick_params(size=0)\n",
    "        #plt.setp(ax.get_yticklabels(), visible=False)\n",
    "        #ax.yaxis.set_tick_params(size=0)\n",
    "fig.tight_layout()"
   ]
  },
  {
   "cell_type": "markdown",
   "metadata": {},
   "source": [
    "## 用类 (class) 包装\n",
    "\n",
    "定义一个ImageSearch类，它的search方法实现我们想要的功能。"
   ]
  },
  {
   "cell_type": "code",
   "execution_count": null,
   "metadata": {
    "collapsed": false
   },
   "outputs": [],
   "source": [
    "class ImageSearch:\n",
    "    def __init__(self, tagfile):\n",
    "        self.data = map(str.strip, open(tagfile).readlines())\n",
    "     \n",
    "    def search(self, query):\n",
    "        s_time = time.time()\n",
    "        hitlist = []\n",
    "        for line in self.data:\n",
    "            imageid, userid, tags = line.strip().split('\\t') # tab character as separator\n",
    "            tagset = set(tags.split())\n",
    "            if query in tagset:\n",
    "                hitlist.append(imageid)\n",
    "        timecost = time.time() - s_time\n",
    "        return {'content':hitlist, 'time':timecost}\n",
    "\n",
    "searcher = ImageSearch(tagfile)\n",
    "results = searcher.search('dog')\n",
    "print '%d hits, %.4f seconds' % (len(results['content']), results['time'])"
   ]
  },
  {
   "cell_type": "markdown",
   "metadata": {},
   "source": [
    "通过预先建立的倒排表，加速图像搜索。以更多的内存开销换取速度的提升。"
   ]
  },
  {
   "cell_type": "code",
   "execution_count": null,
   "metadata": {
    "collapsed": false
   },
   "outputs": [],
   "source": [
    "class FastImageSearch:\n",
    "    def __init__(self, tagfile):\n",
    "        self.im2hitlist = {}\n",
    "        for line in open(tagfile).readlines():\n",
    "            imageid, userid, tags = line.strip().split('\\t') # tab character as separator\n",
    "            tagset = set(tags.split())\n",
    "            for tag in tagset:\n",
    "                self.im2hitlist.setdefault(tag, []).append(imageid)\n",
    "        \n",
    "    def search(self, query):\n",
    "        s_time = time.time()\n",
    "        hitlist = self.im2hitlist.get(query, [])\n",
    "        timecost = time.time() - s_time\n",
    "        return {'content':hitlist, 'time':timecost}\n",
    "\n",
    "searcher = FastImageSearch(tagfile)\n",
    "results = searcher.search('dog')\n",
    "print '%d hits, %.4f seconds' % (len(results['content']), results['time'])"
   ]
  },
  {
   "cell_type": "code",
   "execution_count": null,
   "metadata": {
    "collapsed": true
   },
   "outputs": [],
   "source": []
  }
 ],
 "metadata": {
  "kernelspec": {
   "display_name": "deepws",
   "language": "python",
   "name": "deepws"
  },
  "language_info": {
   "codemirror_mode": {
    "name": "ipython",
    "version": 2
   },
   "file_extension": ".py",
   "mimetype": "text/x-python",
   "name": "python",
   "nbconvert_exporter": "python",
   "pygments_lexer": "ipython2",
   "version": "2.7.13"
  }
 },
 "nbformat": 4,
 "nbformat_minor": 0
}
