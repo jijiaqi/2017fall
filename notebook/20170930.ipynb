{
 "cells": [
  {
   "cell_type": "code",
   "execution_count": 30,
   "metadata": {
    "collapsed": false
   },
   "outputs": [
    {
     "name": "stdout",
     "output_type": "stream",
     "text": [
      "[1]\n",
      "hello world\n",
      "['hello', 'world']\n"
     ]
    }
   ],
   "source": [
    "a  = []\n",
    "a.append(1)\n",
    "print a\n",
    "a = 'hello world'\n",
    "print a\n",
    "print a.split()"
   ]
  },
  {
   "cell_type": "code",
   "execution_count": 32,
   "metadata": {
    "collapsed": false
   },
   "outputs": [
    {
     "name": "stdout",
     "output_type": "stream",
     "text": [
      "cedar tree grecia greece sunset sombra shadow\n",
      "tokens ['cedar', 'tree', 'grecia', 'greece', 'sunset', 'sombra', 'shadow']\n",
      "check car\n",
      "check car\n",
      "check car\n",
      "check car\n",
      "check car\n",
      "check car\n",
      "check car\n",
      "t-car:  ['fall', 'autumn', 'olympus', 'e1', 'nature', 'landscape', '14-54', 'favorites', 'fave', 'interesting', 'organic', 'earth', 'getty', 'photo', 'scotteverett', 'ishpop']\n",
      "[('photo', 1), ('scotteverett', 1), ('organic', 1), ('14-54', 1), ('nature', 1), ('interesting', 1), ('fave', 1), ('olympus', 1), ('autumn', 1), ('getty', 1), ('favorites', 1)]\n"
     ]
    }
   ],
   "source": [
    "from collections import Counter\n",
    "\n",
    "datafile = 'flickr-tags.txt'\n",
    "lines = open(datafile).readlines()\n",
    "lines = lines[:1]\n",
    "\n",
    "cnt = Counter()\n",
    "cnt_0 = Counter()\n",
    "\n",
    "for line in lines:\n",
    "    tokens = line.strip().split()\n",
    "    for t in tokens:\n",
    "        cnt_0[t] = cnt_0[t] + 1\n",
    "        \n",
    "    if 'car' in tokens:\n",
    "        for t in tokens:\n",
    "            cnt[t] = cnt[t] + 1\n",
    "    \n",
    "    xxxx = [t for t in tokens if 'car' in tokens]\n",
    "    \n",
    "    if 'car' in tokens:\n",
    "        xxxx = tokens\n",
    "    else:\n",
    "        xxxx = []\n",
    "  \n",
    "    xxxx = []\n",
    "    for t in tokens:\n",
    "        print ('check car')\n",
    "        if 'car' in tokens:\n",
    "            xxxx.append(t)\n",
    "         \n",
    " \n",
    "\n",
    "    print 't-car: ', t_car\n",
    "    for tag in xxxx:\n",
    "        cnt[tag] = cnt[tag] + 1\n",
    "        \n",
    "sorted_list = cnt.most_common(11)\n",
    "print sorted_list"
   ]
  },
  {
   "cell_type": "code",
   "execution_count": 21,
   "metadata": {
    "collapsed": false
   },
   "outputs": [
    {
     "name": "stdout",
     "output_type": "stream",
     "text": [
      "Counter({'dog': 1})\n",
      "{'dog': 1}\n"
     ]
    }
   ],
   "source": [
    "from collections import Counter\n",
    "a = Counter()\n",
    "a['dog'] = a['dog'] + 1\n",
    "print a\n",
    "b = {}\n",
    "b['dog'] = b.get('dog',0) + 1\n",
    "print b"
   ]
  },
  {
   "cell_type": "code",
   "execution_count": 16,
   "metadata": {
    "collapsed": false
   },
   "outputs": [
    {
     "name": "stdout",
     "output_type": "stream",
     "text": [
      "[('john', 'A', 15), ('jane', 'B', 10), ('dave', 'B', 12)]\n",
      "[('jane', 'B', 10), ('dave', 'B', 12), ('john', 'A', 15)]\n"
     ]
    }
   ],
   "source": [
    "students = [ \n",
    "('john', 'A', 15), \n",
    "('jane', 'B', 10), \n",
    "('dave', 'B', 12), ]\n",
    "print students\n",
    "#students.sort(reverse=True)\n",
    "students.sort(key=lambda v:v[2])\n",
    "print students"
   ]
  },
  {
   "cell_type": "code",
   "execution_count": 10,
   "metadata": {
    "collapsed": false
   },
   "outputs": [
    {
     "name": "stdout",
     "output_type": "stream",
     "text": [
      "{'first': 1}\n",
      "1\n",
      "a\n"
     ]
    }
   ],
   "source": [
    "a = {}\n",
    "a['first'] = 1\n",
    "print a\n",
    "print a.get('first', 'a')\n",
    "print a.get('last', 'a')\n",
    "#print a['last']"
   ]
  },
  {
   "cell_type": "code",
   "execution_count": 1,
   "metadata": {
    "collapsed": false
   },
   "outputs": [
    {
     "name": "stdout",
     "output_type": "stream",
     "text": [
      "55\n",
      "55\n"
     ]
    }
   ],
   "source": [
    "# get 1+2+3...+n\n",
    "def my_sum(n):\n",
    "    s = 0\n",
    "    for i in range(n+1):\n",
    "        s += i\n",
    "    return s\n",
    "\n",
    "n = 10\n",
    "li = range(1,n+1)\n",
    "print sum(li)\n",
    "print my_sum(n)"
   ]
  },
  {
   "cell_type": "code",
   "execution_count": 4,
   "metadata": {
    "collapsed": false
   },
   "outputs": [
    {
     "name": "stdout",
     "output_type": "stream",
     "text": [
      "(10, 14, 8, 1, '->', 14)\n",
      "(6, 10, 8, 1, '->', 10)\n",
      "(4, 14, 0, 7, '->', 14)\n",
      "(17, 7, 3, 14, '->', 17)\n",
      "(20, 10, 15, 10, '->', 20)\n",
      "(18, 19, 9, 5, '->', 19)\n",
      "(1, 2, 14, 16, '->', 14)\n",
      "(4, 11, 10, 6, '->', 11)\n",
      "(16, 3, 2, 6, '->', 16)\n",
      "(10, 20, 2, 19, '->', 20)\n"
     ]
    }
   ],
   "source": [
    "def max3(a, b, c):\n",
    "    if a >= b:\n",
    "        if a>=c:\n",
    "            return a\n",
    "        else:\n",
    "            return c\n",
    "    else:\n",
    "        if b>=c:\n",
    "            return b\n",
    "        else:\n",
    "            return c\n",
    "\n",
    "def max4(a, b, c, d):\n",
    "    z = max3(a, b, c)\n",
    "    #max_val = z if z>=d else d\n",
    "    if z>=d:\n",
    "        return z\n",
    "    else:\n",
    "        return d\n",
    "  \n",
    "import random\n",
    "n = 20\n",
    "for i in range(10):\n",
    "    a = random.randint(0,n)\n",
    "    b = random.randint(0,n)\n",
    "    c = random.randint(0,n)\n",
    "    d = random.randint(0,n)\n",
    "    print (a, b, c, d, '->', max4(a,b,c,d))\n",
    "    \n",
    "#print max3(5,9,3), max3(9,5,3), max3(3,5,9)"
   ]
  },
  {
   "cell_type": "code",
   "execution_count": null,
   "metadata": {
    "collapsed": true
   },
   "outputs": [],
   "source": [
    "a = {}\n"
   ]
  }
 ],
 "metadata": {
  "kernelspec": {
   "display_name": "Python 2",
   "language": "python",
   "name": "python2"
  },
  "language_info": {
   "codemirror_mode": {
    "name": "ipython",
    "version": 2
   },
   "file_extension": ".py",
   "mimetype": "text/x-python",
   "name": "python",
   "nbconvert_exporter": "python",
   "pygments_lexer": "ipython2",
   "version": "2.7.13"
  }
 },
 "nbformat": 4,
 "nbformat_minor": 2
}
