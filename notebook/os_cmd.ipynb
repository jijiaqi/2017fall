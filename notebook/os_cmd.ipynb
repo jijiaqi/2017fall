{
 "cells": [
  {
   "cell_type": "code",
   "execution_count": null,
   "metadata": {},
   "outputs": [],
   "source": [
    "import os\n",
    "print os.environ.data"
   ]
  },
  {
   "cell_type": "code",
   "execution_count": null,
   "metadata": {},
   "outputs": [],
   "source": [
    "print type(os.environ.data)"
   ]
  },
  {
   "cell_type": "code",
   "execution_count": null,
   "metadata": {},
   "outputs": [],
   "source": [
    "# nice format using pprint\n",
    "import pprint\n",
    "pp = pprint.PrettyPrinter(indent=4)\n",
    "pp.pprint(os.environ.data)"
   ]
  },
  {
   "cell_type": "code",
   "execution_count": null,
   "metadata": {},
   "outputs": [],
   "source": [
    "# nice format using json\n",
    "import json\n",
    "print json.dumps(os.environ.data, indent=4)"
   ]
  },
  {
   "cell_type": "code",
   "execution_count": null,
   "metadata": {},
   "outputs": [],
   "source": [
    "import os\n",
    "\n",
    "# 获取制定路径的文件/文件夹列表\n",
    "work_dir = \".\"\n",
    "dirs = os.listdir(work_dir)"
   ]
  },
  {
   "cell_type": "code",
   "execution_count": null,
   "metadata": {},
   "outputs": [],
   "source": [
    "# 输出所有文件和文件夹\n",
    "for filename in dirs:   \n",
    "    print filename"
   ]
  },
  {
   "cell_type": "code",
   "execution_count": null,
   "metadata": {},
   "outputs": [],
   "source": [
    "#当路径中包含中文，可能不能正常显示\n",
    "\n",
    "work_dir = \"C:\\Users\\nanyang\\Downloads\\python课程\"\n",
    "dirs = os.listdir(work_dir)\n",
    "for filename in dirs:   \n",
    "    print filename"
   ]
  },
  {
   "cell_type": "code",
   "execution_count": null,
   "metadata": {},
   "outputs": [],
   "source": [
    "# 输出所有文件和文件夹的名字\n",
    "for filename in dirs:   \n",
    "    print filename.decode(\"gbk\").encode(\"utf-8\")\n"
   ]
  },
  {
   "cell_type": "code",
   "execution_count": null,
   "metadata": {},
   "outputs": [],
   "source": [
    "# 改变当前目录\n",
    "print os.getcwd()\n",
    "os.chdir('d:\\\\kankan')  #注意windows下用到转义\n",
    "print os.getcwd()"
   ]
  },
  {
   "attachments": {},
   "cell_type": "markdown",
   "metadata": {},
   "source": [
    "os.path module\n"
   ]
  },
  {
   "cell_type": "code",
   "execution_count": null,
   "metadata": {},
   "outputs": [],
   "source": [
    "#将输入的路径 path 拆分成 (文件路径, 文件名)\n",
    "print os.path.split(\"C:\\\\Users\\\\think\")\n",
    "print os.path.split(\"C:\\\\Users\\\\think\\\\\")\n",
    "print os.path.split(\"C:\\\\Users\\\\think\\\\hello.py\")\n"
   ]
  },
  {
   "cell_type": "code",
   "execution_count": null,
   "metadata": {},
   "outputs": [],
   "source": [
    "print os.path.split(\"/Users/xirong/workspace\")\n",
    "print os.path.split(\"/Users/xirong/workspace/\")\n",
    "print os.path.split(\"/Users/xirong/workspace/hello.py\")\n"
   ]
  },
  {
   "cell_type": "code",
   "execution_count": 31,
   "metadata": {},
   "outputs": [
    {
     "name": "stdout",
     "output_type": "stream",
     "text": [
      "['bceEstep.m', 'bceMstep.m', 'calculateAccuracy.m', 'Iris.mat', 'learnBCE.m', 'readme.txt', 'runBCE.m']\n"
     ]
    }
   ],
   "source": [
    "import os\n",
    "work_dir='C:\\\\Users\\\\nanyang\\\\Downloads\\\\bce'\n",
    "dirs = os.listdir(work_dir)\n",
    "print dirs\n",
    "#pprint.pprint(dirs)"
   ]
  },
  {
   "cell_type": "code",
   "execution_count": 37,
   "metadata": {},
   "outputs": [
    {
     "name": "stdout",
     "output_type": "stream",
     "text": [
      "bceEstep.m\n",
      "bceEstep.m\n",
      "d:\\kankan\\bceEstep.m\n",
      "--------------------------------------------------\n",
      "bceMstep.m\n",
      "bceMstep.m\n",
      "d:\\kankan\\bceMstep.m\n",
      "--------------------------------------------------\n",
      "calculateAccuracy.m\n",
      "calculateAccuracy.m\n",
      "d:\\kankan\\calculateAccuracy.m\n",
      "--------------------------------------------------\n",
      "Iris.mat\n",
      "Iris.mat\n",
      "d:\\kankan\\Iris.mat\n",
      "--------------------------------------------------\n",
      "learnBCE.m\n",
      "learnBCE.m\n",
      "d:\\kankan\\learnBCE.m\n",
      "--------------------------------------------------\n",
      "readme.txt\n",
      "readme.txt\n",
      "d:\\kankan\\readme.txt\n",
      "--------------------------------------------------\n",
      "runBCE.m\n",
      "runBCE.m\n",
      "d:\\kankan\\runBCE.m\n",
      "--------------------------------------------------\n"
     ]
    }
   ],
   "source": [
    "for filename in dirs:\n",
    "    print filename\n",
    "    print os.path.relpath(filename)\n",
    "    print os.path.abspath(filename)\n",
    "    print '-'*50"
   ]
  },
  {
   "cell_type": "code",
   "execution_count": null,
   "metadata": {
    "collapsed": true
   },
   "outputs": [],
   "source": []
  }
 ],
 "metadata": {
  "kernelspec": {
   "display_name": "Python 2",
   "language": "python",
   "name": "python2"
  },
  "language_info": {
   "codemirror_mode": {
    "name": "ipython",
    "version": 2
   },
   "file_extension": ".py",
   "mimetype": "text/x-python",
   "name": "python",
   "nbconvert_exporter": "python",
   "pygments_lexer": "ipython2",
   "version": "2.7.13"
  }
 },
 "nbformat": 4,
 "nbformat_minor": 2
}
