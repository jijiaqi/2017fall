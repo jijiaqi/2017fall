{
 "cells": [
  {
   "cell_type": "markdown",
   "metadata": {},
   "source": [
    "# Lambda操作"
   ]
  },
  {
   "cell_type": "markdown",
   "metadata": {},
   "source": [
    "## 用lambda操作来定义函数"
   ]
  },
  {
   "cell_type": "code",
   "execution_count": 1,
   "metadata": {
    "collapsed": false
   },
   "outputs": [
    {
     "data": {
      "text/plain": [
       "3"
      ]
     },
     "execution_count": 1,
     "metadata": {},
     "output_type": "execute_result"
    }
   ],
   "source": [
    "f = lambda x, y: x + y\n",
    "f(1,2)"
   ]
  },
  {
   "cell_type": "code",
   "execution_count": 16,
   "metadata": {
    "collapsed": false
   },
   "outputs": [
    {
     "name": "stdout",
     "output_type": "stream",
     "text": [
      "[1, 3, 5]\n"
     ]
    }
   ],
   "source": [
    "a = [1, 2, 3, 4, 5, 6]\n",
    "new_list = []\n",
    "\n",
    "#for x in a:\n",
    "for i in range(len(a)):\n",
    "    x = a[i]\n",
    "    if (x%2) == 1: # this is an odd\n",
    "        new_list.append(x)\n",
    "print new_list"
   ]
  },
  {
   "cell_type": "markdown",
   "metadata": {},
   "source": [
    "### lambda用于指定排序标准"
   ]
  },
  {
   "cell_type": "code",
   "execution_count": 2,
   "metadata": {
    "collapsed": false,
    "scrolled": true
   },
   "outputs": [
    {
     "name": "stdout",
     "output_type": "stream",
     "text": [
      "[('c', 1), ('a', 2), ('b', 3)]\n",
      "[('a', 2), ('b', 3), ('c', 1)]\n",
      "[('c', 1), ('a', 2), ('b', 3)]\n"
     ]
    }
   ],
   "source": [
    "def f1(x):\n",
    "    return x[1]\n",
    "\n",
    "a = [('a', 2), ('b', 3), ('c', 1)]\n",
    "a.sort(key=f1)\n",
    "print (a)\n",
    "\n",
    "a = [('a', 2), ('b', 3), ('c', 1)]\n",
    "print (a)\n",
    "a.sort(key=lambda x:x[1])\n",
    "print (a)"
   ]
  },
  {
   "cell_type": "code",
   "execution_count": 3,
   "metadata": {
    "collapsed": false
   },
   "outputs": [
    {
     "name": "stdout",
     "output_type": "stream",
     "text": [
      "[('a', 2), ('b', 3), ('c', 1)]\n",
      "[('b', 3), ('a', 2), ('c', 1)]\n"
     ]
    }
   ],
   "source": [
    "a = [('a', 2), ('b', 3), ('c', 1)]\n",
    "print (a)\n",
    "a.sort(key=lambda x:-x[1])\n",
    "print (a)"
   ]
  },
  {
   "cell_type": "markdown",
   "metadata": {},
   "source": [
    "## map函数"
   ]
  },
  {
   "cell_type": "code",
   "execution_count": 4,
   "metadata": {
    "collapsed": false
   },
   "outputs": [
    {
     "name": "stdout",
     "output_type": "stream",
     "text": [
      "[97.7, 98.60000000000001, 99.5, 102.2]\n",
      "[36.5, 37.00000000000001, 37.5, 39.0]\n"
     ]
    }
   ],
   "source": [
    "def fahrenheit(T):\n",
    "    return 1.8*T + 32\n",
    "\n",
    "def celsius(T):\n",
    "    return 5.0/9*(T-32)\n",
    "\n",
    "temp = (36.5, 37, 37.5, 39)\n",
    "\n",
    "F = map(fahrenheit, temp)\n",
    "C = map(celsius, F)\n",
    "\n",
    "print (F)\n",
    "print (C)"
   ]
  },
  {
   "cell_type": "markdown",
   "metadata": {},
   "source": []
  },
  {
   "cell_type": "code",
   "execution_count": 5,
   "metadata": {
    "collapsed": false
   },
   "outputs": [
    {
     "name": "stdout",
     "output_type": "stream",
     "text": [
      "[97.7, 98.60000000000001, 99.5, 102.2]\n",
      "[36.5, 37.00000000000001, 37.5, 39.0]\n"
     ]
    }
   ],
   "source": [
    "Celsius = [36.5, 37, 37.5, 39]\n",
    "Fahrenheit = map(lambda x: 1.8*x + 32, Celsius)\n",
    "print Fahrenheit\n",
    "\n",
    "C = map(lambda x: 5.0/9*(x-32), Fahrenheit)\n",
    "print C"
   ]
  },
  {
   "cell_type": "markdown",
   "metadata": {},
   "source": [
    "### map同时作用于多个列表"
   ]
  },
  {
   "cell_type": "code",
   "execution_count": 6,
   "metadata": {
    "collapsed": false
   },
   "outputs": [
    {
     "name": "stdout",
     "output_type": "stream",
     "text": [
      "[5, 5, 5, 5]\n"
     ]
    }
   ],
   "source": [
    "a = [1, 2, 3, 4]\n",
    "b = [4, 3, 2, 1]\n",
    "c = map(lambda x,y: x+y, a, b)\n",
    "print (c)"
   ]
  },
  {
   "cell_type": "code",
   "execution_count": 7,
   "metadata": {
    "collapsed": false
   },
   "outputs": [
    {
     "name": "stdout",
     "output_type": "stream",
     "text": [
      "[5, 5, 5, 5]\n"
     ]
    }
   ],
   "source": [
    "d = map(lambda x:x[0]+x[1], zip(a,b))\n",
    "print (d)"
   ]
  },
  {
   "cell_type": "markdown",
   "metadata": {},
   "source": [
    "## filter函数"
   ]
  },
  {
   "cell_type": "code",
   "execution_count": 8,
   "metadata": {
    "collapsed": false
   },
   "outputs": [
    {
     "name": "stdout",
     "output_type": "stream",
     "text": [
      "[1, 1, 3, 5, 13, 21, 55]\n",
      "[1, 1, 3, 5, 13, 21, 55]\n",
      "[0, 2, 8, 34]\n"
     ]
    }
   ],
   "source": [
    "def is_odd(x):\n",
    "    return x%2 == 1\n",
    "\n",
    "fib = [0,1,1,2,3,5,8,13,21,34,55]\n",
    "print filter(is_odd, fib)\n",
    "print filter(lambda x: x % 2 == 1, fib)\n",
    "print filter(lambda x: x % 2 == 0, fib)"
   ]
  },
  {
   "cell_type": "markdown",
   "metadata": {},
   "source": [
    "## reduce函数"
   ]
  },
  {
   "cell_type": "code",
   "execution_count": 9,
   "metadata": {
    "collapsed": false
   },
   "outputs": [
    {
     "name": "stdout",
     "output_type": "stream",
     "text": [
      "4\n",
      "4\n"
     ]
    }
   ],
   "source": [
    "a = [1, 2, 3, 4]\n",
    "def max2(x,y):\n",
    "    return max(x,y)\n",
    "\n",
    "print reduce(max2, a)\n",
    "print reduce(lambda x,y: max(x,y), a)"
   ]
  },
  {
   "cell_type": "code",
   "execution_count": 10,
   "metadata": {
    "collapsed": false
   },
   "outputs": [
    {
     "name": "stdout",
     "output_type": "stream",
     "text": [
      "('John', 18)\n",
      "('Bob', 20)\n"
     ]
    }
   ],
   "source": [
    "a = [('John', 18), ('Bob', 20), ('Dennis', 17)]\n",
    "print max(a)\n",
    "print reduce(lambda x,y:x if x[1]>y[1] else y, a)"
   ]
  },
  {
   "cell_type": "markdown",
   "metadata": {
    "collapsed": true
   },
   "source": [
    "## 练习案例\n",
    "\n",
    "随机生成10个取值范围是0到100之间（含0和100）的整数，并找出其中最小和最大的数。\n",
    "输出格式如下：\n",
    "\n",
    "```\n",
    "generated numbers: 83, 73, 94, 58, 91, 57, 1, 73, 11, 37\n",
    "max: 94\n",
    "min: 1\n",
    "```\n",
    "\n",
    "请给出尽量多的不同实现方案。"
   ]
  },
  {
   "cell_type": "code",
   "execution_count": 11,
   "metadata": {
    "collapsed": false
   },
   "outputs": [
    {
     "name": "stdout",
     "output_type": "stream",
     "text": [
      "generated numbers: 31, 18, 57, 81, 90, 54, 100, 19, 15, 9\n",
      "max: 100\n",
      "min: 9\n"
     ]
    }
   ],
   "source": [
    "import random\n",
    "\n",
    "numbers = [random.randint(0,100) for i in range(10)]\n",
    "print 'generated numbers:', ', '.join(map(str,numbers))\n",
    "print 'max: %d' % max(numbers)\n",
    "print 'min: %d' % min(numbers)"
   ]
  },
  {
   "cell_type": "code",
   "execution_count": 12,
   "metadata": {
    "collapsed": false
   },
   "outputs": [
    {
     "name": "stdout",
     "output_type": "stream",
     "text": [
      "max: 100\n",
      "min: 9\n"
     ]
    }
   ],
   "source": [
    "max_val = numbers[0]\n",
    "min_val = numbers[0]\n",
    "\n",
    "for x in numbers:\n",
    "    if max_val < x:\n",
    "        max_val = x\n",
    "    if min_val > x:\n",
    "        min_val = x\n",
    "print 'max:', max_val\n",
    "print 'min:', min_val   "
   ]
  },
  {
   "cell_type": "code",
   "execution_count": 13,
   "metadata": {
    "collapsed": false
   },
   "outputs": [
    {
     "name": "stdout",
     "output_type": "stream",
     "text": [
      "max: 100\n",
      "min: 9\n"
     ]
    }
   ],
   "source": [
    "max_val = reduce(lambda x,y:x if x>y else y, numbers)\n",
    "min_val = reduce(lambda x,y:x if x<y else y, numbers)\n",
    "print 'max:', max_val\n",
    "print 'min:', min_val"
   ]
  },
  {
   "cell_type": "code",
   "execution_count": 14,
   "metadata": {
    "collapsed": false
   },
   "outputs": [
    {
     "name": "stdout",
     "output_type": "stream",
     "text": [
      "max: 100\n",
      "min: 9\n"
     ]
    }
   ],
   "source": [
    "sorted_numbers = sorted(numbers)\n",
    "print 'max:', sorted_numbers[-1]\n",
    "print 'min:', sorted_numbers[0]"
   ]
  },
  {
   "cell_type": "code",
   "execution_count": null,
   "metadata": {
    "collapsed": true
   },
   "outputs": [],
   "source": []
  }
 ],
 "metadata": {
  "kernelspec": {
   "display_name": "deepws",
   "language": "python",
   "name": "deepws"
  },
  "language_info": {
   "codemirror_mode": {
    "name": "ipython",
    "version": 2
   },
   "file_extension": ".py",
   "mimetype": "text/x-python",
   "name": "python",
   "nbconvert_exporter": "python",
   "pygments_lexer": "ipython2",
   "version": "2.7.13"
  }
 },
 "nbformat": 4,
 "nbformat_minor": 0
}
