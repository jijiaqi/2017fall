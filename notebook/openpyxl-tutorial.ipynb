{
 "cells": [
  {
   "cell_type": "markdown",
   "metadata": {},
   "source": [
    "## Write a workbook"
   ]
  },
  {
   "cell_type": "code",
   "execution_count": 1,
   "metadata": {
    "collapsed": false
   },
   "outputs": [
    {
     "name": "stdout",
     "output_type": "stream",
     "text": [
      "2.4.9\n"
     ]
    }
   ],
   "source": [
    "import openpyxl\n",
    "print openpyxl.__version__"
   ]
  },
  {
   "cell_type": "code",
   "execution_count": 2,
   "metadata": {
    "collapsed": false
   },
   "outputs": [],
   "source": [
    "from openpyxl import Workbook\n",
    "from openpyxl.compat import range\n",
    "from openpyxl.utils import get_column_letter\n",
    "\n",
    "wb = Workbook()\n",
    "res_filename = 'empty_book.xlsx'\n",
    "worksheet1 = wb.active\n",
    "worksheet1.title = \"range names\"\n",
    "\n",
    "for row in range(1, 40):\n",
    "    worksheet1.append(range(600))\n",
    "\n",
    "worksheet2 = wb.create_sheet(title=\"Pi\")\n",
    "worksheet2['F5'] = 3.14\n",
    "wb.save(filename = res_filename)"
   ]
  },
  {
   "cell_type": "markdown",
   "metadata": {},
   "source": [
    "## 创建excel文件"
   ]
  },
  {
   "cell_type": "code",
   "execution_count": 3,
   "metadata": {
    "collapsed": true
   },
   "outputs": [],
   "source": [
    "import pandas as pd\n",
    "from openpyxl import Workbook\n",
    "from openpyxl.utils.dataframe import dataframe_to_rows\n",
    "\n",
    "# Create a Pandas dataframe from the data.\n",
    "df = pd.DataFrame({'Age': [10, 20, 30, 20, 15, 30, 45]})\n",
    "wb = Workbook()\n",
    "ws = wb.active \n",
    "\n",
    "for r in dataframe_to_rows(df): \n",
    "    ws.append(r)\n",
    "    \n",
    "wb.save('test.xlsx')"
   ]
  },
  {
   "cell_type": "code",
   "execution_count": null,
   "metadata": {
    "collapsed": true
   },
   "outputs": [],
   "source": []
  },
  {
   "cell_type": "markdown",
   "metadata": {},
   "source": [
    "## 创建pandas风格的excel文件"
   ]
  },
  {
   "cell_type": "code",
   "execution_count": 4,
   "metadata": {
    "collapsed": false
   },
   "outputs": [],
   "source": [
    "import pandas as pd\n",
    "from openpyxl import Workbook\n",
    "from openpyxl.utils.dataframe import dataframe_to_rows\n",
    "\n",
    "# Create a Pandas dataframe from the data.\n",
    "df = pd.DataFrame({'Age': [10, 20, 30, 20, 15, 30, 45]})\n",
    "wb = Workbook()\n",
    "ws = wb.active # sheet1\n",
    "\n",
    "#for r in dataframe_to_rows(df, index=True, header=True):\n",
    "for r in dataframe_to_rows(df): #, index=True, header=True):\n",
    "    ws.append(r)\n",
    "    \n",
    "# To convert a dataframe into a worksheet highlighting the header and index:\n",
    "for cell in ws['A'] + ws[1]:\n",
    "    cell.style = 'Pandas'\n",
    "    \n",
    "wb.save('test.xlsx')"
   ]
  },
  {
   "cell_type": "code",
   "execution_count": 24,
   "metadata": {
    "collapsed": true
   },
   "outputs": [],
   "source": [
    "import pandas as pd\n",
    "from openpyxl.utils.dataframe import dataframe_to_rows\n",
    "\n",
    "#df = pd.DataFrame({'Age': [10, 20, 30, 20, 15, 30, 45]})\n",
    "#0.811991\t-0.461548\n",
    "#-1.50515\t1.00333\n",
    "#0.197914\t0.662164\n",
    "\n",
    "#作业3: how to read numbers from the text file?\n",
    "\n",
    "XXX = [0.811991, -1.50515, 0.197914]\n",
    "YYY = [-0.461548, 1.00333, 0.662164]\n",
    "df = pd.DataFrame({'x1':XXX, 'x2':YYY})\n",
    "df.head()\n",
    "\n",
    "wb = Workbook()\n",
    "ws = wb.active \n",
    "\n",
    "for r in dataframe_to_rows(df):\n",
    "    ws.append(r)\n",
    "\n",
    "for cell in ws['A'] + ws[1]:\n",
    "    cell.style = 'Pandas'\n",
    "    \n",
    "wb.save('test-data.xlsx')"
   ]
  },
  {
   "cell_type": "markdown",
   "metadata": {},
   "source": [
    "## Load a Workbook"
   ]
  },
  {
   "cell_type": "code",
   "execution_count": 17,
   "metadata": {
    "collapsed": false
   },
   "outputs": [
    {
     "name": "stdout",
     "output_type": "stream",
     "text": [
      "8 2\n"
     ]
    }
   ],
   "source": [
    "import openpyxl\n",
    "wb = openpyxl.load_workbook('test.xlsx')\n",
    "ws = wb.active\n",
    "print ws.max_row, ws.max_column"
   ]
  },
  {
   "cell_type": "markdown",
   "metadata": {},
   "source": [
    "## access data"
   ]
  },
  {
   "cell_type": "code",
   "execution_count": 7,
   "metadata": {
    "collapsed": false
   },
   "outputs": [
    {
     "name": "stdout",
     "output_type": "stream",
     "text": [
      "10\n",
      "10\n",
      "33\n",
      "(<Cell u'Sheet'.B1>, <Cell u'Sheet'.B2>, <Cell u'Sheet'.B3>, <Cell u'Sheet'.B4>, <Cell u'Sheet'.B5>, <Cell u'Sheet'.B6>, <Cell u'Sheet'.B7>, <Cell u'Sheet'.B8>, <Cell u'Sheet'.B9>, <Cell u'Sheet'.B10>)\n"
     ]
    }
   ],
   "source": [
    "c1 = ws['B2']\n",
    "c2 = ws.cell(row=2, column=2)\n",
    "print c1.value\n",
    "print c2.value\n",
    "ws['B2'] = 33\n",
    "print c1.value\n",
    "ws['B10'] = 100\n",
    "\n",
    "print ws['B']\n",
    "c2 = ws.cell(row=2,column=2)\n",
    "#print c2.value\n",
    "c2.value = 66\n",
    "#print ws.cell(row=2,column=2).value\n",
    "wb.save('test-modified.xlsx')"
   ]
  },
  {
   "cell_type": "markdown",
   "metadata": {},
   "source": [
    "### access many cells"
   ]
  },
  {
   "cell_type": "code",
   "execution_count": 8,
   "metadata": {
    "collapsed": false
   },
   "outputs": [
    {
     "name": "stdout",
     "output_type": "stream",
     "text": [
      "[None, u'Age']\n",
      "(<Cell u'Sheet'.B1>, <Cell u'Sheet'.B2>, <Cell u'Sheet'.B3>, <Cell u'Sheet'.B4>, <Cell u'Sheet'.B5>, <Cell u'Sheet'.B6>, <Cell u'Sheet'.B7>, <Cell u'Sheet'.B8>, <Cell u'Sheet'.B9>, <Cell u'Sheet'.B10>)\n",
      "[u'Age', 66, 20L, 30L, 20L, 15L, 30L, 45L, None, 100]\n"
     ]
    }
   ],
   "source": [
    "row = ws[1]\n",
    "print [x.value for x in row]\n",
    "cell_range = ws['B']\n",
    "print cell_range\n",
    "print [x.value for x in cell_range]"
   ]
  },
  {
   "cell_type": "code",
   "execution_count": 9,
   "metadata": {
    "collapsed": false
   },
   "outputs": [
    {
     "name": "stdout",
     "output_type": "stream",
     "text": [
      "<Cell u'Sheet'.A2> 0\n",
      "<Cell u'Sheet'.B2> 66\n",
      "<Cell u'Sheet'.A3> 1\n",
      "<Cell u'Sheet'.B3> 20\n",
      "<Cell u'Sheet'.A4> 2\n",
      "<Cell u'Sheet'.B4> 30\n"
     ]
    }
   ],
   "source": [
    "cell_range = ws['A2':'B4']\n",
    "for row in cell_range:\n",
    "    for cell in row:\n",
    "        print cell, cell.value"
   ]
  },
  {
   "cell_type": "markdown",
   "metadata": {},
   "source": [
    "### Convert a worksheet to a DataFrame"
   ]
  },
  {
   "cell_type": "code",
   "execution_count": 21,
   "metadata": {
    "collapsed": false
   },
   "outputs": [
    {
     "name": "stdout",
     "output_type": "stream",
     "text": [
      "Age\n",
      "[10L, 20L, 30L, 20L, 15L, 30L, 45L]\n"
     ]
    },
    {
     "data": {
      "text/html": [
       "<div>\n",
       "<style>\n",
       "    .dataframe thead tr:only-child th {\n",
       "        text-align: right;\n",
       "    }\n",
       "\n",
       "    .dataframe thead th {\n",
       "        text-align: left;\n",
       "    }\n",
       "\n",
       "    .dataframe tbody tr th {\n",
       "        vertical-align: top;\n",
       "    }\n",
       "</style>\n",
       "<table border=\"1\" class=\"dataframe\">\n",
       "  <thead>\n",
       "    <tr style=\"text-align: right;\">\n",
       "      <th></th>\n",
       "      <th>Age</th>\n",
       "    </tr>\n",
       "  </thead>\n",
       "  <tbody>\n",
       "    <tr>\n",
       "      <th>0</th>\n",
       "      <td>10</td>\n",
       "    </tr>\n",
       "    <tr>\n",
       "      <th>1</th>\n",
       "      <td>20</td>\n",
       "    </tr>\n",
       "    <tr>\n",
       "      <th>2</th>\n",
       "      <td>30</td>\n",
       "    </tr>\n",
       "    <tr>\n",
       "      <th>3</th>\n",
       "      <td>20</td>\n",
       "    </tr>\n",
       "    <tr>\n",
       "      <th>4</th>\n",
       "      <td>15</td>\n",
       "    </tr>\n",
       "  </tbody>\n",
       "</table>\n",
       "</div>"
      ],
      "text/plain": [
       "   Age\n",
       "0   10\n",
       "1   20\n",
       "2   30\n",
       "3   20\n",
       "4   15"
      ]
     },
     "execution_count": 21,
     "metadata": {},
     "output_type": "execute_result"
    }
   ],
   "source": [
    "from pandas import DataFrame\n",
    "nr_rows = ws.max_row\n",
    "nr_cols = ws.max_column\n",
    "\n",
    "col_name = ws['B1'].value\n",
    "print col_name\n",
    "vals = [x.value for x in ws['B'][1:]]\n",
    "print vals\n",
    "df = DataFrame( {col_name:vals} )\n",
    "df.Age\n",
    "df.shape\n",
    "df.describe()\n",
    "df.head()"
   ]
  },
  {
   "cell_type": "code",
   "execution_count": 11,
   "metadata": {
    "collapsed": true
   },
   "outputs": [],
   "source": [
    "datafile = 'data/data20171023.txt'\n",
    "resfile = 'data20171023.xlsx'\n",
    "data = map(str.strip, open(datafile).readlines())\n",
    "x1 = map(float, [line.split()[0] for line in data])\n",
    "x2 = map(float, [line.split()[1] for line in data])\n",
    "\n",
    "df = pd.DataFrame({'x1': x1, 'x2': x2})\n",
    "wb = Workbook()\n",
    "ws = wb.active \n",
    "\n",
    "for r in dataframe_to_rows(df):\n",
    "    ws.append(r)\n",
    "\n",
    "for cell in ws['A'] + ws[1]:\n",
    "    cell.style = 'Pandas'\n",
    "    \n",
    "wb.save(resfile)"
   ]
  },
  {
   "cell_type": "code",
   "execution_count": 12,
   "metadata": {
    "collapsed": false
   },
   "outputs": [
    {
     "name": "stdout",
     "output_type": "stream",
     "text": [
      "[u'Sheet']\n",
      "[u'Sheet']\n",
      "Sheet\n"
     ]
    }
   ],
   "source": [
    "from openpyxl import load_workbook\n",
    "wb = load_workbook('test.xlsx')\n",
    "\n",
    "# 通过方法获得sheet名字\n",
    "print wb.get_sheet_names()\n",
    "\n",
    "# 通过属性获得sheet名字\n",
    "print wb.sheetnames\n",
    "\n",
    "# 获得每个sheet\n",
    "for sheet in wb:\n",
    "    print sheet.title"
   ]
  },
  {
   "cell_type": "code",
   "execution_count": 13,
   "metadata": {
    "collapsed": true
   },
   "outputs": [],
   "source": [
    "## Creating a table"
   ]
  },
  {
   "cell_type": "code",
   "execution_count": 14,
   "metadata": {
    "collapsed": true
   },
   "outputs": [],
   "source": [
    "from openpyxl import Workbook\n",
    "from openpyxl.worksheet.table import Table, TableStyleInfo\n",
    "\n",
    "wb = Workbook()\n",
    "ws = wb.active\n",
    "\n",
    "data = [\n",
    "    ['Apples', 10000, 5000, 8000, 6000],\n",
    "    ['Pears',   2000, 3000, 4000, 5000],\n",
    "    ['Bananas', 6000, 6000, 6500, 6000],\n",
    "    ['Oranges',  500,  300,  200,  700],\n",
    "]\n",
    "\n",
    "# add column headings. NB. these must be strings\n",
    "ws.append([\"Fruit\", \"2011\", \"2012\", \"2013\", \"2014\"])\n",
    "for row in data:\n",
    "    ws.append(row)\n",
    "\n",
    "tab = Table(displayName=\"Table1\", ref=\"A1:E5\")\n",
    "\n",
    "# Add a default style with striped rows and banded columns\n",
    "style = TableStyleInfo(name=\"TableStyleMedium9\", showFirstColumn=False,\n",
    "                       showLastColumn=False, showRowStripes=True, showColumnStripes=True)\n",
    "tab.tableStyleInfo = style\n",
    "ws.add_table(tab)\n",
    "wb.save(\"table.xlsx\")"
   ]
  },
  {
   "cell_type": "code",
   "execution_count": 15,
   "metadata": {
    "collapsed": false
   },
   "outputs": [
    {
     "name": "stdout",
     "output_type": "stream",
     "text": [
      "[u'my-sheet1']\n",
      "my-sheet1\n",
      "<Worksheet \"my-sheet1\">\n",
      "my-sheet1\n",
      "sheet 1\n",
      "sheet 2\n",
      "sheet 3\n",
      "sheet 4\n",
      "sheet 5\n",
      "my-sheet1\n",
      "<Worksheet \"sheet 5\">\n"
     ]
    }
   ],
   "source": [
    "from openpyxl import Workbook\n",
    "wb = Workbook()\n",
    "ws = wb.active\n",
    "ws.title = 'my-sheet1'\n",
    "print wb.sheetnames\n",
    "print ws.title\n",
    "print wb['my-sheet1']\n",
    "#print ws.sheet_properties\n",
    "\n",
    "for i in range(1,6):\n",
    "    #new_ws = wb.create_sheet(\"Mysheet-%d\" % i)\n",
    "    new_ws = wb.create_sheet(\"sheet %d\" % i)\n",
    "\n",
    "for ws in wb:\n",
    "    print ws.title\n",
    "print wb.active.title\n",
    "print wb['sheet 5']"
   ]
  },
  {
   "cell_type": "markdown",
   "metadata": {},
   "source": [
    "## 课堂练习－1 \n",
    "用openpyxl新建一个excel文件\n",
    "* 包含5个sheet，sheet名字依次为sheet 1, sheet 2, …, sheet 5\n",
    "* excel文件名为 multi-sheets.xlsx\n"
   ]
  },
  {
   "cell_type": "code",
   "execution_count": 16,
   "metadata": {
    "collapsed": false
   },
   "outputs": [],
   "source": [
    "from openpyxl import Workbook\n",
    "wb = Workbook()\n",
    "wb.active.title = 'sheet 1'\n",
    "for i in range(2, 6):\n",
    "    title = 'sheet %d' % i\n",
    "    wb.create_sheet(title)\n",
    "wb.save('multi-sheets.xlsx')"
   ]
  }
 ],
 "metadata": {
  "kernelspec": {
   "display_name": "deepws",
   "language": "python",
   "name": "deepws"
  },
  "language_info": {
   "codemirror_mode": {
    "name": "ipython",
    "version": 2
   },
   "file_extension": ".py",
   "mimetype": "text/x-python",
   "name": "python",
   "nbconvert_exporter": "python",
   "pygments_lexer": "ipython2",
   "version": "2.7.13"
  }
 },
 "nbformat": 4,
 "nbformat_minor": 0
}
