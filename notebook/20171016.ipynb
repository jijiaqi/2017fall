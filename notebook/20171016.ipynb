{
 "cells": [
  {
   "cell_type": "code",
   "execution_count": 24,
   "metadata": {
    "collapsed": false
   },
   "outputs": [
    {
     "name": "stdout",
     "output_type": "stream",
     "text": [
      "a**b**c\n"
     ]
    }
   ],
   "source": [
    "a = ['a', 'b', 'c']\n",
    "print '**'.join(a)"
   ]
  },
  {
   "cell_type": "code",
   "execution_count": 31,
   "metadata": {
    "collapsed": false
   },
   "outputs": [
    {
     "name": "stdout",
     "output_type": "stream",
     "text": [
      "1580.txt\\n3041.txt\\n3459.txt\\n3724.txt\\n4804.txt\\n485.txt\\n4889.txt\\n5062.txt\\n5688.txt\\n5982.txt\\n601.txt\\n7976.txt\\n9565.txt\\n9810.txt\n"
     ]
    }
   ],
   "source": [
    "import os\n",
    "cwd = os.getcwd()\n",
    "data_folder = 'data20171016'\n",
    "os.path.exists(data_folder)\n",
    "subdirs = os.listdir(data_folder)\n",
    "\n",
    "#print subdirs[:5], subdirs[-5:]\n",
    "first_subdir = subdirs[0]\n",
    "first_subdir = 'ac'\n",
    "rel_path = 'data20171016/' + first_subdir\n",
    "rel_path = data_folder + '/' + first_subdir\n",
    "rel_path = '%s/%s' % (data_folder, first_subdir)\n",
    "rel_path = '/'.join([data_folder, first_subdir])\n",
    "rel_path = os.path.join(data_folder, first_subdir)\n",
    "\n",
    "files = os.listdir(rel_path)\n",
    "#print files\n",
    "print '\\\\n'.join(files)\n",
    "\n",
    "#for file_name in files:\n",
    "#    print file_name"
   ]
  },
  {
   "cell_type": "code",
   "execution_count": 2,
   "metadata": {
    "collapsed": false,
    "deletable": true,
    "editable": true
   },
   "outputs": [
    {
     "name": "stdout",
     "output_type": "stream",
     "text": [
      "the total number of strings is 24\n"
     ]
    }
   ],
   "source": [
    "def cal_str(letters_pool):\n",
    "    string = ''\n",
    "    count = 0\n",
    "    for letter1 in letters_pool:\n",
    "        for letter2 in letters_pool:\n",
    "            if letter1 == letter2:\n",
    "                continue\n",
    "            else:\n",
    "                for letter3 in letters_pool:\n",
    "                    if (letter1 == letter3) or (letter2 == letter3):\n",
    "                        continue\n",
    "                    else:\n",
    "                        string = letter1 + letter2  + letter3\n",
    "                        #print string\n",
    "                        count += 1\n",
    "                        string = \"\"\n",
    "    return count\n",
    "\n",
    "letters22 = ['a', 'b', 'c', 'd']\n",
    "print ('the total number of strings is %d' % cal_str(letters22))"
   ]
  },
  {
   "cell_type": "code",
   "execution_count": 32,
   "metadata": {
    "collapsed": false,
    "deletable": true,
    "editable": true
   },
   "outputs": [
    {
     "name": "stdout",
     "output_type": "stream",
     "text": [
      "1\n",
      "2\n",
      "3\n",
      "data20171016/ah/1929.txt\n",
      "10000\n"
     ]
    }
   ],
   "source": [
    "import os\n",
    "\n",
    "a = [(1,1), (2,2), (3,9)]\n",
    "\n",
    "for x in a:\n",
    "    x[0], x[1]\n",
    "    \n",
    "for x,y in a:\n",
    "    print x\n",
    "    \n",
    "    \n",
    "data_folder = 'data20171016'\n",
    "\n",
    "num_of_files = 0\n",
    "for root, dirs, files in os.walk(data_folder):\n",
    "    for filename in files:\n",
    "        fullpath = os.path.join(root, filename)\n",
    "        \n",
    "        #num_of_files += 1\n",
    "        num_of_files = num_of_files + 1\n",
    "        \n",
    "        if num_of_files == 100:\n",
    "            print fullpath\n",
    "print num_of_files    "
   ]
  },
  {
   "cell_type": "code",
   "execution_count": null,
   "metadata": {
    "collapsed": true,
    "deletable": true,
    "editable": true
   },
   "outputs": [],
   "source": []
  }
 ],
 "metadata": {
  "kernelspec": {
   "display_name": "deepws",
   "language": "python",
   "name": "deepws"
  },
  "language_info": {
   "codemirror_mode": {
    "name": "ipython",
    "version": 2
   },
   "file_extension": ".py",
   "mimetype": "text/x-python",
   "name": "python",
   "nbconvert_exporter": "python",
   "pygments_lexer": "ipython2",
   "version": "2.7.13"
  }
 },
 "nbformat": 4,
 "nbformat_minor": 2
}
