{
 "cells": [
  {
   "cell_type": "code",
   "execution_count": 42,
   "metadata": {
    "collapsed": false
   },
   "outputs": [
    {
     "name": "stdout",
     "output_type": "stream",
     "text": [
      "[('car', 3), ('dog', 2), ('cat', 1), ('hello', 1)]\n",
      "[('car', 3), ('dog', 2), ('cat', 1), ('hello', 1)]\n"
     ]
    }
   ],
   "source": [
    "data = 'dog car dog hello cat car car'\n",
    "#data = \"dog car dog hello cat car car\"\n",
    "from collections import Counter\n",
    "cnt = Counter()\n",
    "words = data.split()\n",
    "\n",
    "cnt_dict = {}\n",
    "\n",
    "for word in words:\n",
    "    cnt[word] = cnt[word] + 1\n",
    "    cnt_dict[word] = cnt_dict.get(word,0)+1\n",
    " \n",
    "print sorted(cnt_dict.iteritems(), key=lambda v:v[1], reverse=True)\n",
    "print cnt.most_common()\n"
   ]
  },
  {
   "cell_type": "code",
   "execution_count": 43,
   "metadata": {
    "collapsed": false
   },
   "outputs": [
    {
     "data": {
      "text/plain": [
       "[<matplotlib.lines.Line2D at 0x10bf23cd0>]"
      ]
     },
     "execution_count": 43,
     "metadata": {},
     "output_type": "execute_result"
    },
    {
     "data": {
      "image/png": "[encoded data removed]",
      "text/plain": [
       "<matplotlib.figure.Figure at 0x10a914790>"
      ]
     },
     "metadata": {},
     "output_type": "display_data"
    }
   ],
   "source": [
    "%matplotlib inline\n",
    "import matplotlib.pyplot as plt\n",
    "\n",
    "sorted_list = cnt.most_common()\n",
    "n = len(sorted_list)\n",
    "x = range(n)\n",
    "y = [c for w,c in sorted_list]\n",
    "plt.plot(x, y)\n"
   ]
  },
  {
   "cell_type": "code",
   "execution_count": 33,
   "metadata": {
    "collapsed": false
   },
   "outputs": [
    {
     "name": "stdout",
     "output_type": "stream",
     "text": [
      "[5, 2, 3, 1, 4]\n",
      "[1, 2, 3, 4, 5]\n",
      "[5, 2, 3, 1, 4]\n",
      "[('john', 'A', 15), ('jane', 'B', 10), ('dave', 'B', 12)]\n",
      "[('john', 'A', 15), ('jane', 'B', 10), ('dave', 'B', 12)]\n",
      "[('john', 'A', 15), ('dave', 'B', 12), ('jane', 'B', 10)]\n"
     ]
    }
   ],
   "source": [
    "a = [5, 2, 3, 1, 4]\n",
    "print a\n",
    "#a.sort(reverse=True)\n",
    "b = sorted(a)\n",
    "print b\n",
    "print a\n",
    "\n",
    "students = [ \n",
    "('john', 'A', 15), \n",
    "('jane', 'B', 10), \n",
    "('dave', 'B', 12), ]\n",
    "print students\n",
    "#print sorted(students)\n",
    "#print sorted(students, key=lambda v:v[0])\n",
    "#print sorted(students, key=lambda v:v[2], reverse=True)\n",
    "#print sorted(students, key=lambda v:v[1], reverse=False)\n",
    "print sorted(students, key=lambda v:(v[1], v[2]), reverse=False)\n",
    "print sorted(students, key=lambda v:(v[1], -v[2]), reverse=False)\n",
    "\n"
   ]
  },
  {
   "cell_type": "code",
   "execution_count": 37,
   "metadata": {
    "collapsed": false
   },
   "outputs": [
    {
     "name": "stdout",
     "output_type": "stream",
     "text": [
      "{'car': 200, 'dog': 100}\n",
      "{'car': 200, 'dog': 100}\n",
      "['car', 'dog']\n",
      "[200, 100]\n",
      "(False, True)\n",
      "('car', 200)\n",
      "('dog', 100)\n",
      "('car', 200)\n",
      "('dog', 100)\n",
      "0\n"
     ]
    }
   ],
   "source": [
    "d = {}\n",
    "d = {'dog':100, 'car':200}\n",
    "print d\n",
    "c = {}\n",
    "c['dog'] = 100\n",
    "c['car'] = 200\n",
    "print c\n",
    "print c.keys()\n",
    "print c.values()\n",
    "\n",
    "# we know the keys\n",
    "print ('dog1' in c, 'dog' in c)\n",
    "c.get('dog1', -1)\n",
    "\n",
    "\n",
    "# we do not know the keys\n",
    "for (key,val) in  c.iteritems():\n",
    "    print (key, val)\n",
    "\n",
    "keys = c.keys()\n",
    "for key in keys:\n",
    "    print (key, c[key])\n",
    "    \n",
    "#print c['dog1']\n",
    "from collections import Counter\n",
    "import collections\n",
    "\n",
    "cc = collections.Counter()\n",
    "cc = Counter()\n",
    "print cc['dog1']"
   ]
  },
  {
   "cell_type": "markdown",
   "metadata": {},
   "source": [
    "## 课堂练习1009-1\n",
    "\n",
    "用程序计算出上一个闰年（leap year）和下一个闰年分别是哪一年？\n",
    "+ 闰年规则：被4整除，但不被100整除（除非能被400整除）\n",
    "\n",
    "## 课堂练习1009-2\n",
    "用四个字母：a、b、c、d，能组成多少个互不相同、无重复字母、长度为3的字符串？输出这些字符串。"
   ]
  },
  {
   "cell_type": "code",
   "execution_count": 49,
   "metadata": {
    "collapsed": false
   },
   "outputs": [
    {
     "name": "stdout",
     "output_type": "stream",
     "text": [
      "last leap year 2016\n",
      "next leap year 2020\n"
     ]
    }
   ],
   "source": [
    "def is_leap_year(year):\n",
    "    return (0 == year%4 and 0 != year%100) or (0 == year%400)\n",
    "\n",
    "year = 2017\n",
    "while True:\n",
    "    year = year - 1\n",
    "    if is_leap_year(year):\n",
    "        break\n",
    "print 'last leap year', year\n",
    "\n",
    "year = 2017\n",
    "while True:\n",
    "    year = year + 1\n",
    "    if is_leap_year(year):\n",
    "        break\n",
    "\n",
    "\n",
    "print 'next leap year', year"
   ]
  },
  {
   "cell_type": "code",
   "execution_count": 51,
   "metadata": {
    "collapsed": false
   },
   "outputs": [
    {
     "name": "stdout",
     "output_type": "stream",
     "text": [
      "('a', 'a', 'a')\n",
      "('a', 'a', 'b')\n",
      "('a', 'a', 'c')\n",
      "('a', 'a', 'd')\n",
      "('a', 'b', 'a')\n",
      "('a', 'b', 'b')\n",
      "('a', 'b', 'c')\n",
      "('a', 'b', 'd')\n",
      "('a', 'c', 'a')\n",
      "('a', 'c', 'b')\n",
      "('a', 'c', 'c')\n",
      "('a', 'c', 'd')\n",
      "('a', 'd', 'a')\n",
      "('a', 'd', 'b')\n",
      "('a', 'd', 'c')\n",
      "('a', 'd', 'd')\n",
      "('b', 'a', 'a')\n",
      "('b', 'a', 'b')\n",
      "('b', 'a', 'c')\n",
      "('b', 'a', 'd')\n",
      "('b', 'b', 'a')\n",
      "('b', 'b', 'b')\n",
      "('b', 'b', 'c')\n",
      "('b', 'b', 'd')\n",
      "('b', 'c', 'a')\n",
      "('b', 'c', 'b')\n",
      "('b', 'c', 'c')\n",
      "('b', 'c', 'd')\n",
      "('b', 'd', 'a')\n",
      "('b', 'd', 'b')\n",
      "('b', 'd', 'c')\n",
      "('b', 'd', 'd')\n",
      "('c', 'a', 'a')\n",
      "('c', 'a', 'b')\n",
      "('c', 'a', 'c')\n",
      "('c', 'a', 'd')\n",
      "('c', 'b', 'a')\n",
      "('c', 'b', 'b')\n",
      "('c', 'b', 'c')\n",
      "('c', 'b', 'd')\n",
      "('c', 'c', 'a')\n",
      "('c', 'c', 'b')\n",
      "('c', 'c', 'c')\n",
      "('c', 'c', 'd')\n",
      "('c', 'd', 'a')\n",
      "('c', 'd', 'b')\n",
      "('c', 'd', 'c')\n",
      "('c', 'd', 'd')\n",
      "('d', 'a', 'a')\n",
      "('d', 'a', 'b')\n",
      "('d', 'a', 'c')\n",
      "('d', 'a', 'd')\n",
      "('d', 'b', 'a')\n",
      "('d', 'b', 'b')\n",
      "('d', 'b', 'c')\n",
      "('d', 'b', 'd')\n",
      "('d', 'c', 'a')\n",
      "('d', 'c', 'b')\n",
      "('d', 'c', 'c')\n",
      "('d', 'c', 'd')\n",
      "('d', 'd', 'a')\n",
      "('d', 'd', 'b')\n",
      "('d', 'd', 'c')\n",
      "('d', 'd', 'd')\n"
     ]
    }
   ],
   "source": [
    "letters = ['a', 'b', 'c', 'd']\n",
    "letters = 'a b c d'.split()\n",
    "\n",
    "for i in letters:\n",
    "    for j in letters:\n",
    "        for k in letters:\n",
    "            print (i,j,k)"
   ]
  },
  {
   "cell_type": "code",
   "execution_count": null,
   "metadata": {
    "collapsed": true
   },
   "outputs": [],
   "source": []
  }
 ],
 "metadata": {
  "kernelspec": {
   "display_name": "deepws",
   "language": "python",
   "name": "deepws"
  },
  "language_info": {
   "codemirror_mode": {
    "name": "ipython",
    "version": 2
   },
   "file_extension": ".py",
   "mimetype": "text/x-python",
   "name": "python",
   "nbconvert_exporter": "python",
   "pygments_lexer": "ipython2",
   "version": "2.7.13"
  }
 },
 "nbformat": 4,
 "nbformat_minor": 2
}
